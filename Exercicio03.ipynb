{
  "nbformat": 4,
  "nbformat_minor": 0,
  "metadata": {
    "colab": {
      "provenance": [],
      "collapsed_sections": [],
      "authorship_tag": "ABX9TyO1wr6ksJZ1uZigFLaKUvFl",
      "include_colab_link": true
    },
    "kernelspec": {
      "name": "python3",
      "display_name": "Python 3"
    },
    "language_info": {
      "name": "python"
    }
  },
  "cells": [
    {
      "cell_type": "markdown",
      "metadata": {
        "id": "view-in-github",
        "colab_type": "text"
      },
      "source": [
        "<a href=\"https://colab.research.google.com/github/vaniaed9721/Treinamento-de-Exercicios-em-Python/blob/main/Exercicio03.ipynb\" target=\"_parent\"><img src=\"https://colab.research.google.com/assets/colab-badge.svg\" alt=\"Open In Colab\"/></a>"
      ]
    },
    {
      "cell_type": "code",
      "execution_count": 9,
      "metadata": {
        "colab": {
          "base_uri": "https://localhost:8080/"
        },
        "id": "aWkA0JdUF1QO",
        "outputId": "29842b8c-b466-4097-85b0-ebbbae5cef65"
      },
      "outputs": [
        {
          "output_type": "stream",
          "name": "stdout",
          "text": [
            "Digite um numero inteiro: 102\n",
            "Digite um valor inteiro a ser somado ao primeiro numero digitado: 95\n",
            "A soma dos valores 102 + 95  é : 197\n"
          ]
        }
      ],
      "source": [
        "#Crie um programa que leia dois numeros e mostre a soma entre eles\n",
        "#Programa soma de dois valores como dados de entrada\n",
        "num01 = int(input('Digite um numero inteiro: '))\n",
        "num02 = int(input('Digite um valor inteiro a ser somado ao primeiro numero digitado: '))\n",
        "soma = num01 + num02\n",
        "print(f'A soma dos valores {num01} + {num02}  é : {soma}')"
      ]
    }
  ]
}