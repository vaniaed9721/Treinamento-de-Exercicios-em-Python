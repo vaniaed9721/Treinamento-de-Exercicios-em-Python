{
  "nbformat": 4,
  "nbformat_minor": 0,
  "metadata": {
    "colab": {
      "provenance": [],
      "collapsed_sections": [],
      "authorship_tag": "ABX9TyM75qpvWFwe680fNPoGyIQr",
      "include_colab_link": true
    },
    "kernelspec": {
      "name": "python3",
      "display_name": "Python 3"
    },
    "language_info": {
      "name": "python"
    }
  },
  "cells": [
    {
      "cell_type": "markdown",
      "metadata": {
        "id": "view-in-github",
        "colab_type": "text"
      },
      "source": [
        "<a href=\"https://colab.research.google.com/github/vaniaed9721/Treinamento-de-Exercicios-em-Python/blob/main/Exercicio06.ipynb\" target=\"_parent\"><img src=\"https://colab.research.google.com/assets/colab-badge.svg\" alt=\"Open In Colab\"/></a>"
      ]
    },
    {
      "cell_type": "code",
      "execution_count": null,
      "metadata": {
        "id": "g1vAAmitX8Ow"
      },
      "outputs": [],
      "source": [
        "# Crie um algoritmo que leia um número e mostre o seu dobro, triplo e raiz quadrada"
      ]
    },
    {
      "cell_type": "code",
      "source": [
        "num = int( input( 'Digite um número inteiro '))\n",
        "dobro = 2 * num\n",
        "triplo = 3* num\n",
        "raiz = num ** (1/2)\n",
        "print(f' O dobro de {num} é : {dobro}')\n",
        "print(f' O triplo de {num} é : {triplo}')\n",
        "print(f' A raiz quadrado de {num} é {raiz:.2f}')"
      ],
      "metadata": {
        "colab": {
          "base_uri": "https://localhost:8080/"
        },
        "id": "qnRFREYCYQW4",
        "outputId": "02aaba9c-670b-4fd8-e40f-4748f6f89328"
      },
      "execution_count": 16,
      "outputs": [
        {
          "output_type": "stream",
          "name": "stdout",
          "text": [
            "Digite um número inteiro 2\n",
            " O dobro de 2 é : 4\n",
            " O triplo de 2 é : 6\n",
            " A raiz quadrado de 2 é 1.41\n"
          ]
        }
      ]
    }
  ]
}