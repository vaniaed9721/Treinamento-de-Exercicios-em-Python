{
  "nbformat": 4,
  "nbformat_minor": 0,
  "metadata": {
    "colab": {
      "provenance": [],
      "collapsed_sections": [],
      "authorship_tag": "ABX9TyOHysvXeN9OZEpPIDKofqDG",
      "include_colab_link": true
    },
    "kernelspec": {
      "name": "python3",
      "display_name": "Python 3"
    },
    "language_info": {
      "name": "python"
    }
  },
  "cells": [
    {
      "cell_type": "markdown",
      "metadata": {
        "id": "view-in-github",
        "colab_type": "text"
      },
      "source": [
        "<a href=\"https://colab.research.google.com/github/vaniaed9721/Treinamento-de-Exercicios-em-Python/blob/main/exercicio05.ipynb\" target=\"_parent\"><img src=\"https://colab.research.google.com/assets/colab-badge.svg\" alt=\"Open In Colab\"/></a>"
      ]
    },
    {
      "cell_type": "code",
      "execution_count": null,
      "metadata": {
        "id": "Hnwdg62JUZC2"
      },
      "outputs": [],
      "source": [
        "#Faça um programa que leia uma numero inteiro e imprima-o na tela juntamente com seu antecessor e seu sucessor.\n"
      ]
    },
    {
      "cell_type": "code",
      "source": [
        "num = int(input('Digite um numeral inteiro: '))\n",
        "ante = num - 1\n",
        "suces = num +1\n",
        "print(f' O numeral digitado é {num} e seu antecessor é {ante} e seu sucessor é {suces}')"
      ],
      "metadata": {
        "colab": {
          "base_uri": "https://localhost:8080/"
        },
        "id": "jgPKoJSHU39U",
        "outputId": "679a9949-ff02-45ef-ca22-914685e1f914"
      },
      "execution_count": 3,
      "outputs": [
        {
          "output_type": "stream",
          "name": "stdout",
          "text": [
            "Digite um numeral inteiro: 7854\n",
            " O numeral digitado é 7854 e seu antecessor é 7853 e seu sucessor é 7855\n"
          ]
        }
      ]
    }
  ]
}