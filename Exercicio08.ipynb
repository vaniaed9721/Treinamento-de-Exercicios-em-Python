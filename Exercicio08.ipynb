{
  "nbformat": 4,
  "nbformat_minor": 0,
  "metadata": {
    "colab": {
      "provenance": [],
      "collapsed_sections": [],
      "authorship_tag": "ABX9TyOE9hQAP97AQ4UrnysX/aat",
      "include_colab_link": true
    },
    "kernelspec": {
      "name": "python3",
      "display_name": "Python 3"
    },
    "language_info": {
      "name": "python"
    }
  },
  "cells": [
    {
      "cell_type": "markdown",
      "metadata": {
        "id": "view-in-github",
        "colab_type": "text"
      },
      "source": [
        "<a href=\"https://colab.research.google.com/github/vaniaed9721/Treinamento-de-Exercicios-em-Python/blob/main/Exercicio08.ipynb\" target=\"_parent\"><img src=\"https://colab.research.google.com/assets/colab-badge.svg\" alt=\"Open In Colab\"/></a>"
      ]
    },
    {
      "cell_type": "code",
      "execution_count": null,
      "metadata": {
        "id": "d51JgOZffrUC"
      },
      "outputs": [],
      "source": [
        "# Escreva um programa que leia um valor em metros e o exiba convertido em centímetros e milimetros"
      ]
    },
    {
      "cell_type": "code",
      "source": [
        "metros = float( input( 'Digite o valor em metros: '))\n",
        "print(f' Você digitou ', metros, 'metros' )\n",
        "cent = metros * 100\n",
        "mili = metros * 1000\n",
        "print(f'O valor de ',metros, 'metros, equivale a ', cent, 'centímetros')\n",
        "print(f'O valor de ',metros, 'metros, equivale a ', mili, 'milimetros ')"
      ],
      "metadata": {
        "id": "yMTMwJWFjGPB"
      },
      "execution_count": null,
      "outputs": []
    }
  ]
}