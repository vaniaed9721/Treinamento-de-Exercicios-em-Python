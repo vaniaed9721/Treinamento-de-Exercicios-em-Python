{
  "nbformat": 4,
  "nbformat_minor": 0,
  "metadata": {
    "colab": {
      "provenance": [],
      "collapsed_sections": [],
      "authorship_tag": "ABX9TyPpBDzGx/+JgXPeCKLqN6CG",
      "include_colab_link": true
    },
    "kernelspec": {
      "name": "python3",
      "display_name": "Python 3"
    },
    "language_info": {
      "name": "python"
    }
  },
  "cells": [
    {
      "cell_type": "markdown",
      "metadata": {
        "id": "view-in-github",
        "colab_type": "text"
      },
      "source": [
        "<a href=\"https://colab.research.google.com/github/vaniaed9721/Treinamento-de-Exercicios-em-Python/blob/main/Exercicio07.ipynb\" target=\"_parent\"><img src=\"https://colab.research.google.com/assets/colab-badge.svg\" alt=\"Open In Colab\"/></a>"
      ]
    },
    {
      "cell_type": "code",
      "execution_count": null,
      "metadata": {
        "id": "2Yv-kljfan4n"
      },
      "outputs": [],
      "source": [
        "# Desenvolva um programa que leia as duas notas de um aluno e mostre a sua média"
      ]
    },
    {
      "cell_type": "code",
      "source": [
        "nota1 = float(input('Digite a primeira nota do aluno:  '))\n",
        "nota2 = float(input('Digite a segunda nota do aluno: '))\n",
        "media = (nota1 + nota2)/2\n",
        "print(f'A média das notas do aluno é {media:.2f}')"
      ],
      "metadata": {
        "colab": {
          "base_uri": "https://localhost:8080/"
        },
        "id": "K84aWcjLa1ny",
        "outputId": "cd1c0855-8b71-4fd0-8dd5-97c3c307650a"
      },
      "execution_count": 5,
      "outputs": [
        {
          "output_type": "stream",
          "name": "stdout",
          "text": [
            "Digite a primeira nota do aluno:  15.5\n",
            "Digite a segunda nota do aluno: 15.6\n",
            "A média das notas do aluno é 15.55\n"
          ]
        }
      ]
    }
  ]
}