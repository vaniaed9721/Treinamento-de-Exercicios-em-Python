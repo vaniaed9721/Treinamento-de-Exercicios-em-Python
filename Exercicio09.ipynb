{
  "nbformat": 4,
  "nbformat_minor": 0,
  "metadata": {
    "colab": {
      "provenance": [],
      "collapsed_sections": [],
      "authorship_tag": "ABX9TyPwWSZUevbJrrk8rPiuCGvM",
      "include_colab_link": true
    },
    "kernelspec": {
      "name": "python3",
      "display_name": "Python 3"
    },
    "language_info": {
      "name": "python"
    }
  },
  "cells": [
    {
      "cell_type": "markdown",
      "metadata": {
        "id": "view-in-github",
        "colab_type": "text"
      },
      "source": [
        "<a href=\"https://colab.research.google.com/github/vaniaed9721/Treinamento-de-Exercicios-em-Python/blob/main/Exercicio09.ipynb\" target=\"_parent\"><img src=\"https://colab.research.google.com/assets/colab-badge.svg\" alt=\"Open In Colab\"/></a>"
      ]
    },
    {
      "cell_type": "code",
      "execution_count": null,
      "metadata": {
        "id": "zPCim-XLmJB3"
      },
      "outputs": [],
      "source": [
        "# Faça um programa que leia um numero inteiro qualquer e mostre na tela sua tabuada"
      ]
    },
    {
      "cell_type": "code",
      "source": [
        "n = int( input('Digite o numero o qual você deseja obter a tabuada: '))\n",
        "i = 0\n",
        "print(f'A tabuada de ',n ,'é: ')\n",
        "while (i <= 10):\n",
        "  multi = n * i\n",
        "  print(n ,'X', i, '=', multi)\n",
        "  i = i + 1\n",
        "  "
      ],
      "metadata": {
        "colab": {
          "base_uri": "https://localhost:8080/"
        },
        "id": "mdxg16VrmV1O",
        "outputId": "2223b13c-59bc-45ef-de78-2deff8db5638"
      },
      "execution_count": 18,
      "outputs": [
        {
          "output_type": "stream",
          "name": "stdout",
          "text": [
            "Digite o numero o qual você deseja obter a tabuada: 2\n",
            "A tabuada de  2 é: \n",
            "2 X 0 = 0\n",
            "2 X 1 = 2\n",
            "2 X 2 = 4\n",
            "2 X 3 = 6\n",
            "2 X 4 = 8\n",
            "2 X 5 = 10\n",
            "2 X 6 = 12\n",
            "2 X 7 = 14\n",
            "2 X 8 = 16\n",
            "2 X 9 = 18\n",
            "2 X 10 = 20\n"
          ]
        }
      ]
    }
  ]
}