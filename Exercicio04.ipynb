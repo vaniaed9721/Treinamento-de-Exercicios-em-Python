{
  "nbformat": 4,
  "nbformat_minor": 0,
  "metadata": {
    "colab": {
      "provenance": [],
      "authorship_tag": "ABX9TyPA26NLcu6HqV8b1E5ylugu",
      "include_colab_link": true
    },
    "kernelspec": {
      "name": "python3",
      "display_name": "Python 3"
    },
    "language_info": {
      "name": "python"
    }
  },
  "cells": [
    {
      "cell_type": "markdown",
      "metadata": {
        "id": "view-in-github",
        "colab_type": "text"
      },
      "source": [
        "<a href=\"https://colab.research.google.com/github/vaniaed9721/Treinamento-de-Exercicios-em-Python/blob/main/Exercicio04.ipynb\" target=\"_parent\"><img src=\"https://colab.research.google.com/assets/colab-badge.svg\" alt=\"Open In Colab\"/></a>"
      ]
    },
    {
      "cell_type": "code",
      "execution_count": null,
      "metadata": {
        "id": "eNCthsN2P_Ep"
      },
      "outputs": [],
      "source": [
        "valor = input('Digite algo: ')\n",
        "print('O tipo primitivo do valor digitado acima é ',type(valor))\n",
        "print('É alfanumérico? ', valor.isalpha())\n",
        "print('É um numeral: ', valor.isnumeric())\n",
        "print('Está tudo em caixa alta? ', valor.isupper())\n",
        "print('Esta tudo mínusculo? ', valor.islower())\n",
        "print('Contém somente espaços vazios? ', valor.isspace())\n",
        "print('É uma String ASCII? ', valor.isascii())\n"
      ]
    }
  ]
}